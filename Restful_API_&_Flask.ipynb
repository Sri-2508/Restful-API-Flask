{
  "nbformat": 4,
  "nbformat_minor": 0,
  "metadata": {
    "colab": {
      "provenance": []
    },
    "kernelspec": {
      "name": "python3",
      "display_name": "Python 3"
    },
    "language_info": {
      "name": "python"
    }
  },
  "cells": [
    {
      "cell_type": "markdown",
      "source": [
        "1. What is a RESTful API"
      ],
      "metadata": {
        "id": "uk3u4tiby7E2"
      }
    },
    {
      "cell_type": "markdown",
      "source": [
        "- A RESTful API (Representational State Transfer API) is a type of web API that follows the principles and constraints of REST architecture. It allows systems to communicate over HTTP in a stateless, client-server manner, often used to expose data and services from web applications."
      ],
      "metadata": {
        "id": "0OY7Wjkdy9AQ"
      }
    },
    {
      "cell_type": "markdown",
      "source": [
        "2. Explain the concept of API specification"
      ],
      "metadata": {
        "id": "nSWvvHy4zKoj"
      }
    },
    {
      "cell_type": "markdown",
      "source": [
        "- An API specification defines how clients interact with an API by outlining its key components. It lists available endpoints (e.g., /users, /orders/123) and the supported HTTP methods like GET, POST, or DELETE. It details request parameters (query strings, path variables, headers, and body data) and the data format, usually JSON, for both requests and responses.\n",
        "\n",
        "The spec also covers authentication requirements (e.g., API keys or tokens), error handling with standard codes like 404 or 400, and any rate limits that control request frequency. Overall, it acts as a contract ensuring clear and consistent API usage."
      ],
      "metadata": {
        "id": "PQct2JtIzPwc"
      }
    },
    {
      "cell_type": "markdown",
      "source": [
        "3. What is Flask, and why is it popular for building APIs"
      ],
      "metadata": {
        "id": "UnWoNcL3zrEr"
      }
    },
    {
      "cell_type": "markdown",
      "source": [
        "- Flask is a lightweight Python web framework used to build web applications and APIs. It's known for being simple, flexible, and easy to get started with, making it especially popular for creating RESTful APIs.\n",
        "\n",
        "Why Flask Is Popular for Building APIs\n",
        "\n",
        "Minimalistic and Lightweight\n",
        "Flask doesn’t come with unnecessary tools or libraries by default. You add only what you need, which keeps projects clean and efficient.\n",
        "\n",
        "Easy to Learn and Use\n",
        "The syntax is straightforward and Pythonic, making it ideal for beginners and rapid prototyping.\n",
        "\n",
        "Great for REST APIs\n",
        "Flask makes it easy to define routes and handle HTTP methods like GET, POST, PUT, and DELETE, which are essential for RESTful APIs.\n",
        "\n",
        "Extensible with Plugins\n",
        "You can add functionality using many Flask extensions like:\n",
        "\n",
        "Flask-RESTful (for REST APIs)\n",
        "\n",
        "Flask-JWT (for authentication)\n",
        "\n",
        "Flask-SQLAlchemy (for database integration)\n",
        "\n",
        "Strong Community and Documentation\n",
        "Flask has a large user base and excellent documentation, so finding help or examples is easy.\n",
        "\n",
        "Compatible with WSGI\n",
        "It works well with WSGI servers (like Gunicorn), making it suitable for production deployments."
      ],
      "metadata": {
        "id": "k3Lz1QaEzwFF"
      }
    },
    {
      "cell_type": "markdown",
      "source": [
        "4. What is routing in Flask"
      ],
      "metadata": {
        "id": "2oMOsvlS0JAu"
      }
    },
    {
      "cell_type": "markdown",
      "source": [
        "- When a user or client accesses a particular URL (like /home or /api/data), Flask uses routing to determine which function should handle that request and what response to return."
      ],
      "metadata": {
        "id": "xr6yiF640QF4"
      }
    },
    {
      "cell_type": "code",
      "source": [
        "from flask import Flask\n",
        "\n",
        "app = Flask(__name__)\n",
        "\n",
        "@app.route('/')\n",
        "def home():\n",
        "    return \"Welcome to the homepage!\"\n",
        "\n",
        "@app.route('/about')\n",
        "def about():\n",
        "    return \"This is the about page.\"\n"
      ],
      "metadata": {
        "id": "EF9K_dZV0aDc"
      },
      "execution_count": 1,
      "outputs": []
    },
    {
      "cell_type": "markdown",
      "source": [
        "5. How do you create a simple Flask application"
      ],
      "metadata": {
        "id": "zrWn0_oz0h29"
      }
    },
    {
      "cell_type": "markdown",
      "source": [
        "- To create a simple Flask application, start by installing Flask using pip install flask. Once installed, create a Python file—commonly named app.py. Inside this file, import Flask and create an instance of the Flask class. You can then define a route using the @app.route() decorator and create a function that returns a response, such as a simple string like \"Hello, Flask!\". To run the application, include a conditional block with if __name__ == '__main__': and call app.run(debug=True) to start the development server with debugging enabled.\n",
        "\n",
        "Next, run the file from your terminal using the command python app.py. Flask will start a local server, usually accessible at http://127.0.0.1:5000/, where you can see your app in action. You can also add more routes, such as /about, by defining additional functions with the appropriate decorators. This structure forms the basis of a basic Flask application, which you can expand to handle more complex functionality like returning JSON, handling forms, or building a RESTful API."
      ],
      "metadata": {
        "id": "kE3ydNSo1Dva"
      }
    },
    {
      "cell_type": "markdown",
      "source": [
        "6. What are HTTP methods used in RESTful APIs"
      ],
      "metadata": {
        "id": "Q928e59JLSyy"
      }
    },
    {
      "cell_type": "markdown",
      "source": [
        "- In RESTful APIs, HTTP methods define the type of operation that is being performed on a resource. Here are the main HTTP methods used:\n",
        "\n",
        "1. GET\n",
        "\n",
        "Purpose: Retrieve data from the server.\n",
        "\n",
        "Safe: Yes (doesn't change server state)\n",
        "\n",
        "Idempotent: Yes\n",
        "\n",
        "Example:\n",
        "GET /users/123 – Get user with ID 123\n",
        "\n",
        "2. POST\n",
        "\n",
        "Purpose: Create a new resource.\n",
        "\n",
        "Safe:  No\n",
        "\n",
        "Idempotent: No (repeating can create multiple resources)\n",
        "\n",
        "Example:\n",
        "POST /users with body { \"name\": \"Alice\" } – Create a new user\n",
        "3. PUT\n",
        "\n",
        "Purpose: Replace a resource entirely.\n",
        "\n",
        "Safe:  No\n",
        "\n",
        "Idempotent:  Yes (repeating has the same effect as one call)\n",
        "\n",
        "Example:\n",
        "PUT /users/123 with body { \"name\": \"Bob\" } – Replace user 123\n",
        "4. PATCH\n",
        "\n",
        "Purpose: Partially update a resource.\n",
        "\n",
        "Safe: No\n",
        "\n",
        "Idempotent: Generally yes (depends on implementation)\n",
        "\n",
        "Example:\n",
        "PATCH /users/123 with body { \"name\": \"Carol\" } – Update just the name of user 123\n",
        "5. DELETE\n",
        "\n",
        "Purpose: Remove a resource.\n",
        "\n",
        "Safe: No\n",
        "\n",
        "Idempotent: Yes (deleting again has no further effect)\n",
        "\n",
        "Example:\n",
        "DELETE /users/123 – Delete user 123\n",
        "6. HEAD\n",
        "\n",
        "Purpose: Same as GET but returns only headers (no body).\n",
        "\n",
        "Use case: Check if a resource exists or get metadata.\n",
        "\n",
        "Safe:Yes\n",
        "\n",
        "Idempotent:Yes\n",
        "7. OPTIONS\n",
        "\n",
        "Purpose: Returns the HTTP methods supported by a resource.\n",
        "\n",
        "Use case: CORS and client capability checks.\n",
        "\n",
        "Safe:  Yes\n",
        "\n",
        "Idempotent: Yes"
      ],
      "metadata": {
        "id": "4BGL9GRiLbT_"
      }
    },
    {
      "cell_type": "markdown",
      "source": [
        "7. What is the purpose of the @app.route() decorator in Flask"
      ],
      "metadata": {
        "id": "Qv9PZLwjMiYA"
      }
    },
    {
      "cell_type": "markdown",
      "source": [
        "- The @app.route() decorator in Flask is used to define routes—that is, it maps a URL path to a Python function that will be executed when that path is requested by a client (like a browser or API consumer).\n",
        "Purpose of @app.route()\n",
        "\n",
        "It tells Flask:\n",
        "\n",
        "\"When a request comes to this specific URL, run this function.\""
      ],
      "metadata": {
        "id": "1TTPDwF5M1IZ"
      }
    },
    {
      "cell_type": "code",
      "source": [
        "from flask import Flask\n",
        "\n",
        "app = Flask(__name__)\n",
        "\n",
        "@app.route('/')\n",
        "def home():\n",
        "    return \"Welcome to the homepage!\"\n"
      ],
      "metadata": {
        "id": "eqye9CfKM56K"
      },
      "execution_count": 1,
      "outputs": []
    },
    {
      "cell_type": "markdown",
      "source": [
        "8. What is the difference between GET and POST HTTP methods"
      ],
      "metadata": {
        "id": "Gxgk3TAMNAV0"
      }
    },
    {
      "cell_type": "markdown",
      "source": [
        "- The GET and POST HTTP methods are both used to send requests to a server in a RESTful API, but they serve different purposes and have key differences in how they handle data and their intended use.\n",
        "1. Purpose\n",
        "| Method | Purpose                   |\n",
        "| ------ | ------------------------- |\n",
        "| `GET`  | Retrieve (read) data      |\n",
        "| `POST` | Submit (create/send) data |\n",
        "2. Data Location\n",
        "| Aspect       | GET                  | POST                         |\n",
        "| ------------ | -------------------- | ---------------------------- |\n",
        "| Data sent in | **URL** query string | **Request body**             |\n",
        "| Example      | `/search?q=python`   | `/submit` with body: `{...}` |\n",
        "3. Visibility\n",
        "| Feature      | GET                                 | POST                    |\n",
        "| ------------ | ----------------------------------- | ----------------------- |\n",
        "| URL Length   | Limited (depends on browser/server) | Virtually unlimited     |\n",
        "| Visible Data | Yes (in the URL)                    | No (hidden in the body) |\n",
        "| Bookmarkable | Yes                                 | No                      |\n",
        "4. Use Case Examples\n",
        "| Task                | Method              |\n",
        "| ------------------- | ------------------- |\n",
        "| Get a user profile  | `GET /users/123`    |\n",
        "| Submit a login form | `POST /login`       |\n",
        "| Search something    | `GET /search?q=api` |\n",
        "| Create a new post   | `POST /posts`       |\n",
        "5. Safety & Idempotency\n",
        "| Concept        | GET   | POST |\n",
        "| -------------- | ----- | ---- |\n",
        "| **Safe**       |  Yes |  No |\n",
        "| **Idempotent** |  Yes |  No |\n",
        "Safe = doesn't change server state\n",
        "\n",
        "Idempotent = same result if repeated\n",
        "\n",
        "\n"
      ],
      "metadata": {
        "id": "tjBWdzgbNFjd"
      }
    },
    {
      "cell_type": "markdown",
      "source": [
        "9. How do you handle errors in Flask APIs"
      ],
      "metadata": {
        "id": "gCmX2LX3OQJ8"
      }
    },
    {
      "cell_type": "markdown",
      "source": [
        "- Handling errors in Flask APIs is essential for providing meaningful feedback to clients and maintaining clean, reliable code. Flask provides several ways to handle errors, both manually and automatically."
      ],
      "metadata": {
        "id": "eyi5v5bzOcZo"
      }
    },
    {
      "cell_type": "markdown",
      "source": [
        "1. Using abort() for HTTP Errors"
      ],
      "metadata": {
        "id": "-p1gWeTuOoOH"
      }
    },
    {
      "cell_type": "code",
      "source": [
        "from flask import Flask, abort\n",
        "\n",
        "app = Flask(__name__)\n",
        "\n",
        "@app.route('/item/<int:item_id>')\n",
        "def get_item(item_id):\n",
        "    if item_id != 1:\n",
        "        abort(404, description=\"Item not found\")\n",
        "    return {\"id\": item_id, \"name\": \"Item 1\"}\n"
      ],
      "metadata": {
        "id": "iRXY7bBlOrGw"
      },
      "execution_count": 2,
      "outputs": []
    },
    {
      "cell_type": "markdown",
      "source": [
        "2. Custom Error Handlers\n",
        "\n",
        "Define custom responses for different error types (like 404 or 500)."
      ],
      "metadata": {
        "id": "HAkLs3hnOvoI"
      }
    },
    {
      "cell_type": "code",
      "source": [
        "from flask import jsonify\n",
        "\n",
        "@app.errorhandler(404)\n",
        "def not_found(error):\n",
        "    return jsonify({\"error\": \"Resource not found\"}), 404\n",
        "\n",
        "@app.errorhandler(500)\n",
        "def internal_error(error):\n",
        "    return jsonify({\"error\": \"Internal server error\"}), 500\n"
      ],
      "metadata": {
        "id": "oCqm-tJGO4GK"
      },
      "execution_count": 3,
      "outputs": []
    },
    {
      "cell_type": "markdown",
      "source": [
        "3. Handling Application-Specific Errors\n",
        "\n",
        "You can define custom exceptions and handle them globally."
      ],
      "metadata": {
        "id": "17pz6jjJO7Kv"
      }
    },
    {
      "cell_type": "code",
      "source": [
        "class InvalidUsage(Exception):\n",
        "    status_code = 400\n",
        "    def __init__(self, message):\n",
        "        self.message = message\n",
        "\n",
        "@app.errorhandler(InvalidUsage)\n",
        "def handle_invalid_usage(error):\n",
        "    response = jsonify({\"error\": error.message})\n",
        "    return response, error.status_code\n"
      ],
      "metadata": {
        "id": "XNUInnizPBVx"
      },
      "execution_count": 4,
      "outputs": []
    },
    {
      "cell_type": "markdown",
      "source": [
        "4. Returning JSON Error Responses\n",
        "\n",
        "For APIs, always return errors as JSON, not HTML."
      ],
      "metadata": {
        "id": "0_-cYObJPHtU"
      }
    },
    {
      "cell_type": "code",
      "source": [
        "@app.errorhandler(400)\n",
        "def bad_request(error):\n",
        "    return jsonify({\"error\": \"Bad request\"}), 400\n"
      ],
      "metadata": {
        "id": "8Xt4Kr2VPJiY"
      },
      "execution_count": 5,
      "outputs": []
    },
    {
      "cell_type": "markdown",
      "source": [
        "5. Use Try-Except Blocks for Logic Errors"
      ],
      "metadata": {
        "id": "qrKbmyOhPMdE"
      }
    },
    {
      "cell_type": "code",
      "source": [
        "@app.route('/api/data')\n",
        "def get_data():\n",
        "    try:\n",
        "        # Your logic here\n",
        "        return jsonify({\"data\": \"some data\"})\n",
        "    except Exception as e:\n",
        "        return jsonify({\"error\": str(e)}), 500\n"
      ],
      "metadata": {
        "id": "YJQgrBznPTFs"
      },
      "execution_count": 6,
      "outputs": []
    },
    {
      "cell_type": "markdown",
      "source": [],
      "metadata": {
        "id": "H8fiu2tgPVkx"
      }
    },
    {
      "cell_type": "markdown",
      "source": [
        "10. How do you connect Flask to a SQL database"
      ],
      "metadata": {
        "id": "fwu4rHlpPVvv"
      }
    },
    {
      "cell_type": "markdown",
      "source": [
        "- To connect Flask to a SQL database, you typically use an ORM (Object Relational Mapper) like SQLAlchemy, or a direct connector like sqlite3 or psycopg2 for PostgreSQL.\n",
        "\n",
        "The most common and flexible approach is using Flask-SQLAlchemy, a Flask extension built on top of SQLAlchemy.\n"
      ],
      "metadata": {
        "id": "0Fru6WuiPbUZ"
      }
    },
    {
      "cell_type": "code",
      "source": [
        "from flask import Flask, jsonify\n",
        "from flask_sqlalchemy import SQLAlchemy\n",
        "\n",
        "app = Flask(__name__)\n",
        "app.config['SQLALCHEMY_DATABASE_URI'] = 'sqlite:///mydb.db'\n",
        "app.config['SQLALCHEMY_TRACK_MODIFICATIONS'] = False\n",
        "db = SQLAlchemy(app)\n",
        "\n",
        "class Book(db.Model):\n",
        "    id = db.Column(db.Integer, primary_key=True)\n",
        "    title = db.Column(db.String(100), nullable=False)\n",
        "\n",
        "@app.route('/books')\n",
        "def get_books():\n",
        "    books = Book.query.all()\n",
        "    return jsonify([{\"id\": b.id, \"title\": b.title} for b in books])\n",
        "\n",
        "if __name__ == '__main__':\n",
        "    with app.app_context():\n",
        "        db.create_all()  # Create tables\n",
        "    app.run(debug=True)\n"
      ],
      "metadata": {
        "id": "h-UVpHezPwqB"
      },
      "execution_count": null,
      "outputs": []
    },
    {
      "cell_type": "markdown",
      "source": [
        "11. What is the role of Flask-SQLAlchemy"
      ],
      "metadata": {
        "id": "19cN6drBPx2h"
      }
    },
    {
      "cell_type": "markdown",
      "source": [
        "- Flask-SQLAlchemy is a Flask extension that integrates SQLAlchemy (a powerful SQL toolkit and Object Relational Mapper) into your Flask application.\n",
        "\n",
        "It simplifies the process of working with SQL databases in Flask by providing a more Pythonic, declarative way to define and interact with databases.\n",
        "1. Database Connection Management\n",
        "\n",
        "Provides a simple way to configure and connect to databases (SQLite, PostgreSQL, MySQL, etc.) using URI strings."
      ],
      "metadata": {
        "id": "bcqNsxmiP2sA"
      }
    },
    {
      "cell_type": "code",
      "source": [
        "app.config['SQLALCHEMY_DATABASE_URI'] = 'sqlite:///mydb.db'\n"
      ],
      "metadata": {
        "id": "OhqAVGZQQHeC"
      },
      "execution_count": null,
      "outputs": []
    },
    {
      "cell_type": "markdown",
      "source": [
        "2. ORM (Object Relational Mapping)\n",
        "\n",
        "Allows you to define database tables as Python classes, and rows as objects."
      ],
      "metadata": {
        "id": "CdHUMtllQJru"
      }
    },
    {
      "cell_type": "code",
      "source": [
        "class User(db.Model):\n",
        "    id = db.Column(db.Integer, primary_key=True)\n",
        "    name = db.Column(db.String(80))\n"
      ],
      "metadata": {
        "id": "uzK5tcCQQOAs"
      },
      "execution_count": null,
      "outputs": []
    },
    {
      "cell_type": "markdown",
      "source": [
        "3. Session Handling\n",
        "\n",
        "Manages database sessions (transactions) with db.session for adding, committing, and rolling back changes."
      ],
      "metadata": {
        "id": "qtrGDeNAQQeE"
      }
    },
    {
      "cell_type": "code",
      "source": [
        "db.session.add(new_user)\n",
        "db.session.commit()\n"
      ],
      "metadata": {
        "id": "VNB03ZlzQUqG"
      },
      "execution_count": null,
      "outputs": []
    },
    {
      "cell_type": "markdown",
      "source": [
        "4. Query Interface\n",
        "\n",
        "Provides a high-level querying system using .query, filtering, and joining methods that feel natural in Python."
      ],
      "metadata": {
        "id": "lhU5P5P2QWhm"
      }
    },
    {
      "cell_type": "code",
      "source": [
        "user = User.query.filter_by(name=\"Alice\").first()\n"
      ],
      "metadata": {
        "id": "k5hpKXsMQdRH"
      },
      "execution_count": null,
      "outputs": []
    },
    {
      "cell_type": "markdown",
      "source": [
        "5.Schema Management\n",
        "\n",
        "Handles table creation and structure through:"
      ],
      "metadata": {
        "id": "4poi_gvNQfi5"
      }
    },
    {
      "cell_type": "code",
      "source": [
        "db.create_all()  # Creates all tables\n",
        "db.drop_all()    # Drops all tables\n"
      ],
      "metadata": {
        "id": "BtkfG148QnpI"
      },
      "execution_count": null,
      "outputs": []
    },
    {
      "cell_type": "markdown",
      "source": [
        "6. Tight Flask Integration\n",
        "\n",
        "Works seamlessly with Flask features like app context, request context, and blueprints."
      ],
      "metadata": {
        "id": "BXZ2LoNdQrB8"
      }
    },
    {
      "cell_type": "markdown",
      "source": [
        "12. What are Flask blueprints, and how are they useful"
      ],
      "metadata": {
        "id": "XRj-BJ6nQzEv"
      }
    },
    {
      "cell_type": "markdown",
      "source": [
        "- Flask Blueprints are a way to organize your Flask application into reusable, modular components.\n",
        "\n",
        "Think of a Blueprint as a mini-application: it can have its own routes, templates, static files, error handlers, etc., and then be registered on the main Flask app.\n",
        "They help you:\n",
        "\n",
        "Organize code better – especially in large applications.\n",
        "\n",
        "Separate concerns – like having a user module, an admin module, etc.\n",
        "\n",
        "Reuse components – blueprints can be shared across multiple apps.\n",
        "\n",
        "Avoid clutter – no need to dump all routes in one big app.py."
      ],
      "metadata": {
        "id": "zLeEP_KZQ7fR"
      }
    },
    {
      "cell_type": "markdown",
      "source": [
        "13. What is the purpose of Flask's request object"
      ],
      "metadata": {
        "id": "bjPeS453RM06"
      }
    },
    {
      "cell_type": "markdown",
      "source": [
        "- Flask’s request object provides access to incoming HTTP request data—it’s how your Flask app reads information sent by the client (like a browser, API consumer, or form).\n",
        "\n",
        "It is automatically available via from flask import request and is used inside route functions.\n",
        "| Feature         | Access via `request`          | Example                       |\n",
        "| --------------- | ----------------------------- | ----------------------------- |\n",
        "| Query string    | `request.args`                | `/search?q=flask` → `'flask'` |\n",
        "| Form data       | `request.form`                | `<form method=\"POST\">`        |\n",
        "| JSON data       | `request.get_json()`          | JSON payloads in APIs         |\n",
        "| HTTP method     | `request.method`              | `'GET'`, `'POST'`, etc.       |\n",
        "| Headers         | `request.headers`             | `'User-Agent'`, `'Auth'`      |\n",
        "| Cookies         | `request.cookies`             | Client-side stored cookies    |\n",
        "| Uploaded files  | `request.files`               | File upload handling          |\n",
        "| URL, path, etc. | `request.url`, `request.path` | Get full or partial URL info  |\n"
      ],
      "metadata": {
        "id": "EcSj40PlRWfI"
      }
    },
    {
      "cell_type": "code",
      "source": [
        "from flask import Flask, request, jsonify\n",
        "\n",
        "app = Flask(__name__)\n",
        "\n",
        "@app.route('/submit', methods=['POST'])\n",
        "def submit():\n",
        "    data = request.get_json()\n",
        "    return jsonify({\"message\": \"Data received\", \"data\": data})\n"
      ],
      "metadata": {
        "id": "7lynwR4kRi4j"
      },
      "execution_count": null,
      "outputs": []
    },
    {
      "cell_type": "markdown",
      "source": [
        "14. How do you create a RESTful API endpoint using Flask"
      ],
      "metadata": {
        "id": "ZIj1-I8VRmKa"
      }
    },
    {
      "cell_type": "markdown",
      "source": [
        "- Creating a RESTful API endpoint in Flask involves:\n",
        "\n",
        "Setting up a Flask app\n",
        "\n",
        "Defining route(s) that respond to HTTP methods (GET, POST, PUT, DELETE, etc.)\n",
        "\n",
        "Returning data (typically in JSON format)"
      ],
      "metadata": {
        "id": "R78_vPJbRtTw"
      }
    },
    {
      "cell_type": "markdown",
      "source": [
        "15. What is the purpose of Flask's jsonify() function"
      ],
      "metadata": {
        "id": "LtGEpB2VR5Nd"
      }
    },
    {
      "cell_type": "markdown",
      "source": [
        "- The purpose of Flask’s jsonify() function is to convert Python data structures (like dictionaries or lists) into a JSON-formatted HTTP response that Flask can send back to the client.\n",
        "\n",
        "Why use jsonify()?\n",
        "\n",
        "Automatically serializes Python objects to JSON.\n",
        "\n",
        "Sets the correct Content-Type header (application/json).\n",
        "\n",
        "Returns a Flask Response object ready to be sent.\n",
        "\n",
        "Handles character encoding properly."
      ],
      "metadata": {
        "id": "iNzUproISXKQ"
      }
    },
    {
      "cell_type": "code",
      "source": [
        "from flask import Flask, jsonify\n",
        "\n",
        "app = Flask(__name__)\n",
        "\n",
        "@app.route('/api/data')\n",
        "def get_data():\n",
        "    data = {\"name\": \"Alice\", \"age\": 30}\n",
        "    return jsonify(data)\n"
      ],
      "metadata": {
        "id": "vd7f1MjfSYnV"
      },
      "execution_count": 8,
      "outputs": []
    },
    {
      "cell_type": "markdown",
      "source": [
        "The client receives:"
      ],
      "metadata": {
        "id": "41ev4WoaSe65"
      }
    },
    {
      "cell_type": "code",
      "source": [
        "{\n",
        "  \"name\": \"Alice\",\n",
        "  \"age\": 30\n",
        "}\n"
      ],
      "metadata": {
        "id": "aG1xdFu2Sfy-"
      },
      "execution_count": null,
      "outputs": []
    },
    {
      "cell_type": "markdown",
      "source": [
        "with the HTTP header Content-Type: application/json."
      ],
      "metadata": {
        "id": "sCEx4SrhSiHX"
      }
    },
    {
      "cell_type": "markdown",
      "source": [
        "16. Explain Flask’s url_for() function"
      ],
      "metadata": {
        "id": "g7FAUPBeSlkD"
      }
    },
    {
      "cell_type": "markdown",
      "source": [
        "- In Flask, the url_for() function is used to dynamically build URLs for your application routes using the name of the view function rather than hardcoding URLs as strings. This approach improves maintainability, flexibility, and prevents hard-to-track bugs when routes change.\n",
        "Basic Syntax: url_for(endpoint, **values)\n",
        "endpoint: The name of the view function (not the URL path).\n",
        "\n",
        "**values: Optional arguments to build the URL, like dynamic parts of the route or query parameters."
      ],
      "metadata": {
        "id": "Gut-GIjbSxHA"
      }
    },
    {
      "cell_type": "code",
      "source": [
        "from flask import Flask, url_for\n",
        "\n",
        "app = Flask(__name__)\n",
        "\n",
        "@app.route('/hello/<username>')\n",
        "def greet_user(username):\n",
        "    return f\"Hello, {username}!\"\n",
        "\n",
        "with app.test_request_context():\n",
        "    print(url_for('greet_user', username='Alice'))\n"
      ],
      "metadata": {
        "colab": {
          "base_uri": "https://localhost:8080/"
        },
        "id": "-oKB1D3e_ksS",
        "outputId": "aeb8d6cf-4ce3-4778-d209-6ffdcb42a06d"
      },
      "execution_count": 1,
      "outputs": [
        {
          "output_type": "stream",
          "name": "stdout",
          "text": [
            "/hello/Alice\n"
          ]
        }
      ]
    },
    {
      "cell_type": "markdown",
      "source": [
        "17. How does Flask handle static files (CSS, JavaScript, etc.)"
      ],
      "metadata": {
        "id": "MvT5eWhP_rB7"
      }
    },
    {
      "cell_type": "markdown",
      "source": [
        "- Flask handles static files (like CSS, JavaScript, and images) by serving them from a special /static/ URL path and a corresponding static/ directory in your project.\n",
        "Default Setup\n",
        "\n",
        "By default, Flask expects your project to look like this:\n",
        "/your_project/\n",
        "├── app.py\n",
        "├── static/\n",
        "│   ├── style.css\n",
        "│   └── script.js\n",
        "├── templates/\n",
        "│   └── index.html\n",
        "How It Works\n",
        "\n",
        "The static/ folder is automatically mapped to the /static/ URL.\n",
        "\n",
        "You can reference static files in your HTML using the url_for() function:\n",
        "<link rel=\"stylesheet\" href=\"{{ url_for('static', filename='style.css') }}\">\n",
        "<script src=\"{{ url_for('static', filename='script.js') }}\"></script>\n",
        "This ensures your URLs are correctly generated (especially if you're using a subdomain, blueprint, or custom static folder).\n",
        "Customizing the Static Folder\n",
        "\n",
        "You can change the name and URL path of the static folder:\n",
        "app = Flask(__name__, static_folder='assets', static_url_path='/content')\n",
        "static_folder='assets': Folder where files are stored\n",
        "\n",
        "static_url_path='/content': URL path to access those files\n",
        "\n",
        "Now your CSS file at assets/style.css would be accessed via /content/style.css."
      ],
      "metadata": {
        "id": "qq7bYPz9_tFp"
      }
    },
    {
      "cell_type": "markdown",
      "source": [
        "18. What is an API specification, and how does it help in building a Flask API"
      ],
      "metadata": {
        "id": "p67CPHSmAQru"
      }
    },
    {
      "cell_type": "markdown",
      "source": [
        "- An API specification is a formal, structured description of how an API behaves — including its endpoints, request/response formats, parameters, data types, and authentication methods. It serves as a contract between the frontend (or client) and backend (or server).\n",
        "\n",
        "Popular formats for API specifications include:\n",
        "\n",
        "OpenAPI (Swagger) — the most widely used\n",
        "\n",
        "RAML\n",
        "\n",
        "API Blueprint\n",
        "How It Helps in Building a Flask API\n",
        "1. Blueprint for Development\n",
        "\n",
        "Helps backend developers understand exactly what to build.\n",
        "\n",
        "Provides a guide to implement the routes and logic in Flask.\n",
        "\n",
        "2. Frontend/Backend Collaboration\n",
        "\n",
        "Allows frontend and backend teams to work in parallel.\n",
        "\n",
        "The frontend can start working with a mock server or API client generator.\n",
        "\n",
        "3. Automatic Documentation\n",
        "\n",
        "Tools like Swagger UI or Redoc can auto-generate interactive docs from an OpenAPI spec.\n",
        "\n",
        "4. Validation\n",
        "\n",
        "Libraries like flask-smorest, marshmallow, or apispec can validate requests and responses against the spec.\n",
        "5. Code Generation\n",
        "\n",
        "Tools can generate Flask boilerplate code from an OpenAPI file.\n",
        "\n",
        "Frontend SDKs can also be generated in JavaScript, TypeScript, etc."
      ],
      "metadata": {
        "id": "x-Lrp6KVAX0f"
      }
    },
    {
      "cell_type": "markdown",
      "source": [
        "19. What are HTTP status codes, and why are they important in a Flask API"
      ],
      "metadata": {
        "id": "YI2WCO1HAnfP"
      }
    },
    {
      "cell_type": "markdown",
      "source": [
        "- HTTP status codes are standardized three-digit numbers that a server sends in response to an HTTP request. They indicate the result of the request — whether it was successful, redirected, failed, unauthorized, etc.\n",
        "Why Are They Important in a Flask API?\n",
        "\n",
        "HTTP status codes provide clear feedback to API clients (like frontend apps, mobile apps, or other services). They help:\n",
        "\n",
        "1.  Indicate Success or Failure\n",
        "\n",
        "200 OK for success\n",
        "\n",
        "404 Not Found if the resource doesn’t exist\n",
        "\n",
        "500 Internal Server Error if something goes wrong on the server\n",
        "\n",
        "2.  Guide Client Behavior\n",
        "\n",
        "A 401 Unauthorized tells the client it needs to re-authenticate\n",
        "\n",
        "A 429 Too Many Requests indicates rate-limiting\n",
        "\n",
        "3.  Make Debugging Easier\n",
        "\n",
        "Developers can quickly identify where something broke (client-side or server-side) using the status code.\n",
        "\n",
        "4.  Enable Proper API Communication\n",
        "\n",
        "Status codes are part of the \"contract\" between client and server — crucial for RESTful APIs."
      ],
      "metadata": {
        "id": "rocj4adoAsWk"
      }
    },
    {
      "cell_type": "markdown",
      "source": [
        "20. How do you handle POST requests in Flask"
      ],
      "metadata": {
        "id": "VbtdfjiLBLMR"
      }
    },
    {
      "cell_type": "markdown",
      "source": [
        "- In Flask, **POST requests** are handled by defining a route with `methods=['POST']` and accessing data using the `request` object. For JSON data, use `request.get_json()`; for form data, use `request.form`. Always validate incoming data and handle errors gracefully, returning appropriate HTTP status codes like `400` for bad input. Tools like Postman or `curl` help test POST requests. To keep your API secure, sanitize input and check payload sizes. In short, Flask makes handling POST requests straightforward, provided you follow good validation and security practices.\n"
      ],
      "metadata": {
        "id": "Y0TgkWA1BPzO"
      }
    },
    {
      "cell_type": "markdown",
      "source": [
        "21. How would you secure a Flask API"
      ],
      "metadata": {
        "id": "-ZDTIB7KB8vC"
      }
    },
    {
      "cell_type": "markdown",
      "source": [
        "- To secure a Flask API, use **JWT or OAuth2** for authentication, and validate all input with tools like `marshmallow` to prevent injection attacks. Always serve over **HTTPS**, apply **rate limiting** to prevent abuse, and control access using **CORS**. Store sensitive data in **environment variables**, not code. Handle errors gracefully without exposing internal details, and use security headers via **Flask-Talisman** for extra protection. These practices together ensure your API is secure and resilient.\n"
      ],
      "metadata": {
        "id": "mZkHb4F7Cw0X"
      }
    },
    {
      "cell_type": "markdown",
      "source": [
        "22. What is the significance of the Flask-RESTful extension"
      ],
      "metadata": {
        "id": "Z5heDjqoDQiM"
      }
    },
    {
      "cell_type": "markdown",
      "source": [
        "- The **Flask-RESTful** extension is significant because it simplifies building REST APIs with Flask by providing useful abstractions and tools tailored for RESTful design. It adds structure and reduces boilerplate code, making your API development faster and cleaner.\n",
        "\n",
        "Key benefits include:\n",
        "\n",
        "* **Resource-based routing:** Instead of manually defining routes and methods, you create resource classes with HTTP method handlers (`get()`, `post()`, etc.), improving code organization.\n",
        "* **Request parsing:** Built-in request parsing via `reqparse` makes handling and validating input parameters easier.\n",
        "* **Automatic JSON responses:** It automatically serializes return values to JSON, streamlining responses.\n",
        "* **Error handling:** Provides a consistent way to manage and format API errors.\n",
        "* **Integration:** Works smoothly with Flask, so you still have Flask’s flexibility while adding REST-friendly features.\n",
        "\n",
        "\n"
      ],
      "metadata": {
        "id": "LxoXOPL6DVeb"
      }
    },
    {
      "cell_type": "markdown",
      "source": [
        "23.  What is the role of Flask’s session object"
      ],
      "metadata": {
        "id": "CUOxF11-DfD8"
      }
    },
    {
      "cell_type": "markdown",
      "source": [
        "- Flask’s session object plays a key role in managing user-specific data across multiple requests. It allows you to store information on the server side that persists between requests from the same user, enabling things like login states, user preferences, shopping carts, and more.\n",
        "\n",
        "Here’s what makes the session important:\n",
        "\n",
        "Client-specific storage: It stores data tied to a particular user’s browser session.\n",
        "\n",
        "Cookie-based: Flask signs the session data and stores it in a cookie, so it’s secure from tampering.\n",
        "\n",
        "Temporary: Data persists only for the duration of the user’s session (usually until the browser is closed or the session expires).\n",
        "\n",
        "Easy to use: You can read/write session data like a dictionary:\n",
        "session['username'] = 'Alice'\n",
        "Supports small data: Best for lightweight info, not large datasets.\n",
        "\n",
        "In essence, Flask’s session object helps maintain state in a stateless HTTP environment, making user experiences smoother and more personalized."
      ],
      "metadata": {
        "id": "G7duMhH0DmnP"
      }
    },
    {
      "cell_type": "markdown",
      "source": [
        "Practical"
      ],
      "metadata": {
        "id": "NPudj_k5D3lk"
      }
    },
    {
      "cell_type": "markdown",
      "source": [
        "1. How do you create a basic Flask application"
      ],
      "metadata": {
        "id": "Klr8B9nrD6YO"
      }
    },
    {
      "cell_type": "markdown",
      "source": [
        "Creating a basic Flask application is straightforward. Here’s a simple step-by-step:\n",
        "\n",
        "1. Install Flask (if you haven’t already):\n",
        "pip install Flask\n",
        "2. Create a Python file (e.g., app.py) with this minimal code:\n",
        "from flask import Flask\n",
        "\n",
        "app = Flask(__name__)\n",
        "\n",
        "@app.route('/')\n",
        "def home():\n",
        "    return \"Hello, Flask!\"\n",
        "\n",
        "if __name__ == '__main__':\n",
        "    app.run(debug=True)\n",
        "3. Run the app:\n",
        "python app.py\n",
        "4.Open your browser and go to http://127.0.0.1:5000/ — you’ll see Hello, Flask! displayed.\n"
      ],
      "metadata": {
        "id": "IUPuuvRYFD-f"
      }
    },
    {
      "cell_type": "code",
      "source": [
        "from flask import Flask\n",
        "\n",
        "app = Flask(__name__)\n",
        "\n",
        "@app.route('/')\n",
        "def home():\n",
        "    return \"Hello, Flask!\"\n",
        "\n",
        "if __name__ == '__main__':\n",
        "    app.run(debug=True)\n"
      ],
      "metadata": {
        "id": "ppryHUMNE1tW"
      },
      "execution_count": null,
      "outputs": []
    },
    {
      "cell_type": "markdown",
      "source": [
        "2. How do you serve static files like images or CSS in Flask"
      ],
      "metadata": {
        "id": "dJ63nqEGFur5"
      }
    },
    {
      "cell_type": "markdown",
      "source": [
        "- In Flask, static files like images, CSS, and JavaScript are served from a folder named static located in your project directory. Flask automatically makes this folder accessible at the /static/ URL path. To use static files in your templates or HTML, you reference them with the url_for('static', filename='path/to/file') function, which generates the correct URL.\n",
        "\n",
        "For example, if you have a CSS file at static/style.css, you include it in your HTML like this:"
      ],
      "metadata": {
        "id": "imEUmr-jFycl"
      }
    },
    {
      "cell_type": "code",
      "source": [
        "<link rel=\"stylesheet\" href=\"{{ url_for('static', filename='style.css') }}\">\n"
      ],
      "metadata": {
        "id": "Ul4fo2YzF5Ou"
      },
      "execution_count": null,
      "outputs": []
    },
    {
      "cell_type": "markdown",
      "source": [
        "Similarly, for an image static/logo.png, you would use:"
      ],
      "metadata": {
        "id": "5hiKaSN7F7Yt"
      }
    },
    {
      "cell_type": "code",
      "source": [
        "<img src=\"{{ url_for('static', filename='logo.png') }}\" alt=\"Logo\">\n"
      ],
      "metadata": {
        "id": "SY-0y2b_F-KH"
      },
      "execution_count": null,
      "outputs": []
    },
    {
      "cell_type": "markdown",
      "source": [
        "Flask’s development server serves these static files automatically. In production, it’s recommended to serve static files through a dedicated web server like Nginx or Apache for better performance."
      ],
      "metadata": {
        "id": "KHlgIo72GAOA"
      }
    },
    {
      "cell_type": "markdown",
      "source": [
        "3. How do you define different routes with different HTTP methods in Flask"
      ],
      "metadata": {
        "id": "dG7qIxsLGEkc"
      }
    },
    {
      "cell_type": "markdown",
      "source": [
        "- In Flask, you define routes with different HTTP methods by specifying the methods parameter in the @app.route() decorator. By default, routes respond to GET requests only, but you can allow other methods like POST, PUT, DELETE, etc."
      ],
      "metadata": {
        "id": "Q7d8osVeGJ-B"
      }
    },
    {
      "cell_type": "code",
      "source": [
        "from flask import Flask, request, jsonify\n",
        "\n",
        "app = Flask(__name__)\n",
        "\n",
        "@app.route('/item', methods=['GET'])\n",
        "def get_item():\n",
        "    return jsonify({\"message\": \"GET request received\"})\n",
        "\n",
        "@app.route('/item', methods=['POST'])\n",
        "def create_item():\n",
        "    data = request.get_json()\n",
        "    return jsonify({\"message\": \"POST request received\", \"data\": data})\n",
        "\n",
        "@app.route('/item', methods=['PUT'])\n",
        "def update_item():\n",
        "    data = request.get_json()\n",
        "    return jsonify({\"message\": \"PUT request received\", \"data\": data})\n",
        "\n",
        "@app.route('/item', methods=['DELETE'])\n",
        "def delete_item():\n",
        "    return jsonify({\"message\": \"DELETE request received\"})\n",
        "\n",
        "if __name__ == '__main__':\n",
        "    app.run(debug=True)\n"
      ],
      "metadata": {
        "id": "t-cxx5d-GT8T"
      },
      "execution_count": null,
      "outputs": []
    },
    {
      "cell_type": "markdown",
      "source": [
        "4.  How do you render HTML templates in Flask"
      ],
      "metadata": {
        "id": "92mfnQWIGXKo"
      }
    },
    {
      "cell_type": "markdown",
      "source": [
        "- In Flask, you render HTML templates using the render_template function. Templates are typically stored in a folder named templates within your project directory. Flask uses the Jinja2 templating engine, allowing you to create dynamic HTML pages by passing data from your Python code to the template.\n",
        " Project structure:\n",
        " /your_project/\n",
        "│\n",
        "├── app.py\n",
        "└── templates/\n",
        "    └── hello.html\n"
      ],
      "metadata": {
        "id": "sTzB_HD1GeeO"
      }
    },
    {
      "cell_type": "code",
      "source": [
        "from flask import Flask, render_template\n",
        "\n",
        "app = Flask(__name__)\n",
        "\n",
        "@app.route('/')\n",
        "def home():\n",
        "    # Pass a variable 'name' to the template\n",
        "    return render_template('hello.html', name='Alice')\n",
        "\n",
        "if __name__ == '__main__':\n",
        "    app.run(debug=True)\n"
      ],
      "metadata": {
        "id": "i5tRCUv7Hige"
      },
      "execution_count": null,
      "outputs": []
    },
    {
      "cell_type": "markdown",
      "source": [
        "<!DOCTYPE html>\n",
        "<html>\n",
        "<head>\n",
        "    <title>Flask Template</title>\n",
        "</head>\n",
        "<body>\n",
        "    <h1>Hello, {{ name }}!</h1>\n",
        "</body>\n",
        "</html>\n"
      ],
      "metadata": {
        "id": "kYo_1-aDHptt"
      }
    },
    {
      "cell_type": "markdown",
      "source": [
        "5. How can you generate URLs for routes in Flask using url_for"
      ],
      "metadata": {
        "id": "FPjgdsaNHqxQ"
      }
    },
    {
      "cell_type": "code",
      "source": [
        "from flask import Flask, url_for\n",
        "\n",
        "app = Flask(__name__)\n",
        "\n",
        "@app.route('/')\n",
        "def home():\n",
        "    return \"Home Page\"\n",
        "\n",
        "@app.route('/user/<username>')\n",
        "def profile(username):\n",
        "    return f\"Profile page of {username}\"\n",
        "\n",
        "@app.route('/links')\n",
        "def links():\n",
        "    # Generate URLs dynamically\n",
        "    home_url = url_for('home')\n",
        "    profile_url = url_for('profile', username='alice')\n",
        "    return f'<a href=\"{home_url}\">Home</a> | <a href=\"{profile_url}\">Alice\\'s Profile</a>'\n",
        "\n",
        "if __name__ == '__main__':\n",
        "    app.run(debug=True)\n"
      ],
      "metadata": {
        "id": "Yab9IAeWH-WV"
      },
      "execution_count": null,
      "outputs": []
    },
    {
      "cell_type": "markdown",
      "source": [
        "6. How do you handle forms in Flask"
      ],
      "metadata": {
        "id": "8CRtAVfuIAb1"
      }
    },
    {
      "cell_type": "code",
      "source": [
        "from flask import Flask, request, render_template\n",
        "\n",
        "app = Flask(__name__)\n",
        "\n",
        "@app.route('/')\n",
        "def form():\n",
        "    return render_template('form.html')\n",
        "\n",
        "@app.route('/submit', methods=['POST'])\n",
        "def submit():\n",
        "    name = request.form.get('name')\n",
        "    return f\"Hello, {name}! Your form was submitted.\"\n",
        "\n",
        "if __name__ == '__main__':\n",
        "    app.run(debug=True)\n"
      ],
      "metadata": {
        "id": "3GIGxcQKIFME"
      },
      "execution_count": null,
      "outputs": []
    },
    {
      "cell_type": "markdown",
      "source": [
        "<!DOCTYPE html>\n",
        "<html>\n",
        "<head>\n",
        "    <title>Flask Form</title>\n",
        "</head>\n",
        "<body>\n",
        "    <form method=\"POST\" action=\"/submit\">\n",
        "        <label>Name:</label>\n",
        "        <input type=\"text\" name=\"name\" required>\n",
        "        <button type=\"submit\">Submit</button>\n",
        "    </form>\n",
        "</body>\n",
        "</html>\n"
      ],
      "metadata": {
        "id": "Flhbjn3gIcOC"
      }
    },
    {
      "cell_type": "markdown",
      "source": [
        "7. How can you validate form data in Flask"
      ],
      "metadata": {
        "id": "37TycdzbIdEF"
      }
    },
    {
      "cell_type": "markdown",
      "source": [
        "- Manual Validation\n",
        "\n",
        "You can check the submitted data inside your route before processing it. For example:"
      ],
      "metadata": {
        "id": "yqfV-kuNIsw4"
      }
    },
    {
      "cell_type": "code",
      "source": [
        "from flask import Flask, request, render_template, flash, redirect, url_for\n",
        "\n",
        "app = Flask(__name__)\n",
        "app.secret_key = 'your_secret_key'  # needed for flashing messages\n",
        "\n",
        "@app.route('/submit', methods=['POST'])\n",
        "def submit():\n",
        "    name = request.form.get('name')\n",
        "\n",
        "    if not name or len(name) < 3:\n",
        "        flash('Name must be at least 3 characters long.')\n",
        "        return redirect(url_for('form'))\n",
        "\n",
        "    return f\"Hello, {name}!\"\n",
        "\n",
        "@app.route('/')\n",
        "def form():\n",
        "    return render_template('form.html')\n",
        "\n",
        "if __name__ == '__main__':\n",
        "    app.run(debug=True)\n"
      ],
      "metadata": {
        "id": "bcrWLvZtIuOd"
      },
      "execution_count": null,
      "outputs": []
    },
    {
      "cell_type": "markdown",
      "source": [
        "Flask-WTF integrates WTForms with Flask, offering built-in validation, CSRF protection, and easier form handling."
      ],
      "metadata": {
        "id": "jShv73lqIwzj"
      }
    },
    {
      "cell_type": "code",
      "source": [
        "from flask import Flask, render_template, redirect, url_for\n",
        "from flask_wtf import FlaskForm\n",
        "from wtforms import StringField, SubmitField\n",
        "from wtforms.validators import DataRequired, Length\n",
        "\n",
        "app = Flask(__name__)\n",
        "app.secret_key = 'your_secret_key'\n",
        "\n",
        "class NameForm(FlaskForm):\n",
        "    name = StringField('Name', validators=[DataRequired(), Length(min=3)])\n",
        "    submit = SubmitField('Submit')\n",
        "\n",
        "@app.route('/', methods=['GET', 'POST'])\n",
        "def index():\n",
        "    form = NameForm()\n",
        "    if form.validate_on_submit():\n",
        "        name = form.name.data\n",
        "        return f\"Hello, {name}!\"\n",
        "    return render_template('form.html', form=form)\n",
        "\n",
        "if __name__ == '__main__':\n",
        "    app.run(debug=True)\n"
      ],
      "metadata": {
        "id": "UNEZnN1sI1Ym"
      },
      "execution_count": null,
      "outputs": []
    },
    {
      "cell_type": "markdown",
      "source": [
        "And in your template:"
      ],
      "metadata": {
        "id": "jVXZytmLI5JV"
      }
    },
    {
      "cell_type": "code",
      "source": [
        "<form method=\"POST\" action=\"/\">\n",
        "    {{ form.hidden_tag() }}\n",
        "    {{ form.name.label }} {{ form.name() }}\n",
        "    {% for error in form.name.errors %}\n",
        "        <span style=\"color: red;\">{{ error }}</span>\n",
        "    {% endfor %}\n",
        "    {{ form.submit() }}\n",
        "</form>\n"
      ],
      "metadata": {
        "id": "cP1_4KxEI7pm"
      },
      "execution_count": null,
      "outputs": []
    },
    {
      "cell_type": "markdown",
      "source": [
        "8. How do you manage sessions in Flask"
      ],
      "metadata": {
        "id": "QbkSGF98I9gn"
      }
    },
    {
      "cell_type": "markdown",
      "source": [
        "-Managing sessions in Flask lets you store data specific to a user across multiple requests, enabling features like user login states, shopping carts, and preferences.\n",
        "\n",
        "How Flask sessions work:\n",
        "\n",
        "Flask provides a built-in session object (like a Python dictionary) to store data per user.\n",
        "\n",
        "Session data is stored client-side in a cookie, but it’s signed to prevent tampering (using your app’s SECRET_KEY).\n",
        "\n",
        "The data persists until the cookie expires or the session is cleared."
      ],
      "metadata": {
        "id": "HruYIHiSKJz4"
      }
    },
    {
      "cell_type": "code",
      "source": [
        "from flask import Flask, session, redirect, url_for, request\n",
        "\n",
        "app = Flask(__name__)\n",
        "app.secret_key = 'your_secret_key'  # Required to secure session cookies\n",
        "\n",
        "@app.route('/login', methods=['GET', 'POST'])\n",
        "def login():\n",
        "    if request.method == 'POST':\n",
        "        username = request.form['username']\n",
        "        # For demo, just store username in session\n",
        "        session['username'] = username\n",
        "        return redirect(url_for('profile'))\n",
        "    return '''\n",
        "        <form method=\"POST\">\n",
        "            Username: <input name=\"username\">\n",
        "            <input type=\"submit\" value=\"Login\">\n",
        "        </form>\n",
        "    '''\n",
        "\n",
        "@app.route('/profile')\n",
        "def profile():\n",
        "    if 'username' in session:\n",
        "        return f'Logged in as {session[\"username\"]}'\n",
        "    return 'You are not logged in.'\n",
        "\n",
        "@app.route('/logout')\n",
        "def logout():\n",
        "    session.pop('username', None)  # Remove username from session\n",
        "    return 'You have been logged out.'\n",
        "\n",
        "if __name__ == '__main__':\n",
        "    app.run(debug=True)\n"
      ],
      "metadata": {
        "id": "m_HBaaD7KQmF"
      },
      "execution_count": null,
      "outputs": []
    },
    {
      "cell_type": "markdown",
      "source": [
        "9. How do you redirect to a different route in Flask"
      ],
      "metadata": {
        "id": "-5EyZOrZJGtc"
      }
    },
    {
      "cell_type": "code",
      "source": [
        "from flask import Flask, redirect, url_for\n",
        "\n",
        "app = Flask(__name__)\n",
        "\n",
        "@app.route('/')\n",
        "def home():\n",
        "    return \"Welcome to the Home Page!\"\n",
        "\n",
        "@app.route('/go-to-home')\n",
        "def go_to_home():\n",
        "    # Redirect user to the 'home' route\n",
        "    return redirect(url_for('home'))\n",
        "\n",
        "if __name__ == '__main__':\n",
        "    app.run(debug=True)\n"
      ],
      "metadata": {
        "id": "4-tYlfvsKiLG"
      },
      "execution_count": null,
      "outputs": []
    },
    {
      "cell_type": "markdown",
      "source": [
        "10. How do you handle errors in Flask (e.g., 404)"
      ],
      "metadata": {
        "id": "slyuuU5DJLWm"
      }
    },
    {
      "cell_type": "code",
      "source": [
        "from flask import Flask, render_template\n",
        "\n",
        "app = Flask(__name__)\n",
        "\n",
        "@app.errorhandler(404)\n",
        "def page_not_found(e):\n",
        "    # You can return a custom message or render a template\n",
        "    return render_template('404.html'), 404\n",
        "\n",
        "@app.route('/')\n",
        "def home():\n",
        "    return \"Welcome to the Home Page!\"\n",
        "\n",
        "if __name__ == '__main__':\n",
        "    app.run(debug=True)\n"
      ],
      "metadata": {
        "id": "uZ4-lLgcK6U_"
      },
      "execution_count": null,
      "outputs": []
    },
    {
      "cell_type": "markdown",
      "source": [
        "11. How do you structure a Flask app using Blueprints"
      ],
      "metadata": {
        "id": "VqoMh0w1JUNc"
      }
    },
    {
      "cell_type": "code",
      "source": [
        "from flask import Blueprint, render_template\n",
        "\n",
        "auth_bp = Blueprint('auth', __name__, url_prefix='/auth')\n",
        "\n",
        "@auth_bp.route('/login')\n",
        "def login():\n",
        "    return render_template('auth/login.html')\n"
      ],
      "metadata": {
        "id": "SmEsi-40LBeb"
      },
      "execution_count": null,
      "outputs": []
    },
    {
      "cell_type": "code",
      "source": [
        "from flask import Blueprint, render_template\n",
        "\n",
        "blog_bp = Blueprint('blog', __name__, url_prefix='/blog')\n",
        "\n",
        "@blog_bp.route('/post/<int:id>')\n",
        "def post(id):\n",
        "    return render_template('blog/post.html', post_id=id)\n"
      ],
      "metadata": {
        "id": "W89haHC7LIQ_"
      },
      "execution_count": null,
      "outputs": []
    },
    {
      "cell_type": "code",
      "source": [
        "from flask import Flask\n",
        "from auth.routes import auth_bp\n",
        "from blog.routes import blog_bp\n",
        "\n",
        "app = Flask(__name__)\n",
        "\n",
        "# Register blueprints\n",
        "app.register_blueprint(auth_bp)\n",
        "app.register_blueprint(blog_bp)\n",
        "\n",
        "@app.route('/')\n",
        "def home():\n",
        "    return \"Welcome to the main page!\"\n",
        "\n",
        "if __name__ == '__main__':\n",
        "    app.run(debug=True)\n"
      ],
      "metadata": {
        "id": "2e1Sd-nALKbF"
      },
      "execution_count": null,
      "outputs": []
    },
    {
      "cell_type": "markdown",
      "source": [
        "12.  How do you define a custom Jinja filter in Flask"
      ],
      "metadata": {
        "id": "9ChNPecRJldU"
      }
    },
    {
      "cell_type": "code",
      "source": [
        "from flask import Flask, render_template\n",
        "\n",
        "app = Flask(__name__)\n",
        "\n",
        "# Define a custom filter that reverses a string\n",
        "@app.template_filter('reverse')\n",
        "def reverse_filter(s):\n",
        "    return s[::-1]\n",
        "\n",
        "@app.route('/')\n",
        "def home():\n",
        "    name = \"Flask\"\n",
        "    return render_template('index.html', name=name)\n",
        "\n",
        "if __name__ == '__main__':\n",
        "    app.run(debug=True)\n"
      ],
      "metadata": {
        "id": "ajQWiRmwLag7"
      },
      "execution_count": null,
      "outputs": []
    },
    {
      "cell_type": "markdown",
      "source": [
        "13. How can you redirect with query parameters in Flask"
      ],
      "metadata": {
        "id": "Jvm8ifGlJsNi"
      }
    },
    {
      "cell_type": "code",
      "source": [
        "from flask import Flask, redirect, url_for, request\n",
        "\n",
        "app = Flask(__name__)\n",
        "\n",
        "@app.route('/')\n",
        "def home():\n",
        "    message = request.args.get('message', 'No message')\n",
        "    return f\"Home Page. Message: {message}\"\n",
        "\n",
        "@app.route('/go')\n",
        "def go():\n",
        "    # Redirect to 'home' with a query parameter ?message=hello\n",
        "    return redirect(url_for('home', message='hello'))\n",
        "\n",
        "if __name__ == '__main__':\n",
        "    app.run(debug=True)\n"
      ],
      "metadata": {
        "id": "57ubdDB4Lx9R"
      },
      "execution_count": null,
      "outputs": []
    },
    {
      "cell_type": "markdown",
      "source": [
        "14.  How do you return JSON responses in Flask"
      ],
      "metadata": {
        "id": "0YPbwmeoJw5n"
      }
    },
    {
      "cell_type": "code",
      "source": [
        "from flask import Flask, jsonify\n",
        "\n",
        "app = Flask(__name__)\n",
        "\n",
        "@app.route('/api/data')\n",
        "def data():\n",
        "    response = {\n",
        "        \"name\": \"Alice\",\n",
        "        \"age\": 30,\n",
        "        \"city\": \"Wonderland\"\n",
        "    }\n",
        "    return jsonify(response)\n",
        "\n",
        "if __name__ == '__main__':\n",
        "    app.run(debug=True)\n"
      ],
      "metadata": {
        "id": "fdp4uh07L-e3"
      },
      "execution_count": null,
      "outputs": []
    },
    {
      "cell_type": "markdown",
      "source": [
        "15. How do you capture URL parameters in Flask"
      ],
      "metadata": {
        "id": "hcJ7sIWvJ3FU"
      }
    },
    {
      "cell_type": "code",
      "source": [
        "from flask import Flask\n",
        "\n",
        "app = Flask(__name__)\n",
        "\n",
        "@app.route('/user/<username>')\n",
        "def show_user(username):\n",
        "    return f\"User: {username}\"\n",
        "\n",
        "@app.route('/post/<int:post_id>')\n",
        "def show_post(post_id):\n",
        "    return f\"Post ID: {post_id}\"\n",
        "\n",
        "if __name__ == '__main__':\n",
        "    app.run(debug=True)\n"
      ],
      "metadata": {
        "id": "nhLwzYTcMAjT"
      },
      "execution_count": null,
      "outputs": []
    }
  ]
}